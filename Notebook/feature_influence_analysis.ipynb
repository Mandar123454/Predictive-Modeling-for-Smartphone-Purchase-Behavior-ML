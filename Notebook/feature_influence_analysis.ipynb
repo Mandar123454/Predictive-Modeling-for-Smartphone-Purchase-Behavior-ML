{
 "cells": [
  {
   "cell_type": "markdown",
   "id": "c1d3170f",
   "metadata": {},
   "source": [
    "# Feature Influence Analysis for Smartphone Purchase Behavior\n",
    "\n",
    "This notebook explores the key features that influence smartphone purchase decisions based on machine learning model analysis."
   ]
  },
  {
   "cell_type": "code",
   "execution_count": null,
   "id": "bc0e4438",
   "metadata": {},
   "outputs": [],
   "source": [
    "# Import required libraries\n",
    "import pandas as pd\n",
    "import numpy as np\n",
    "import matplotlib.pyplot as plt\n",
    "import seaborn as sns\n",
    "\n",
    "# Set style for visualizations\n",
    "plt.style.use('fivethirtyeight')\n",
    "sns.set_palette('viridis')"
   ]
  },
  {
   "cell_type": "markdown",
   "id": "dc60e283",
   "metadata": {},
   "source": [
    "## Load the Data\n",
    "\n",
    "First, we'll load the smartphone purchase data from our cleaned dataset."
   ]
  },
  {
   "cell_type": "code",
   "execution_count": null,
   "id": "3ba37ee1",
   "metadata": {},
   "outputs": [],
   "source": [
    "# Load the cleaned dataset\n",
    "df = pd.read_csv('../Data/smartphone_purchased_data_cleaned.csv')\n",
    "\n",
    "# Display the first few rows\n",
    "df.head()"
   ]
  },
  {
   "cell_type": "markdown",
   "id": "c964c449",
   "metadata": {},
   "source": [
    "## Feature Importance Analysis\n",
    "\n",
    "We'll use SHAP (SHapley Additive exPlanations) to analyze feature importance in our model. SHAP values help us understand how each feature contributes to the predictions."
   ]
  },
  {
   "cell_type": "code",
   "execution_count": null,
   "id": "65959a20",
   "metadata": {},
   "outputs": [],
   "source": [
    "# Import libraries for modeling\n",
    "from sklearn.model_selection import train_test_split\n",
    "from sklearn.preprocessing import StandardScaler\n",
    "import xgboost as xgb\n",
    "import shap\n",
    "\n",
    "# Separate features and target\n",
    "X = df.drop('will_purchase', axis=1)\n",
    "y = df['will_purchase']\n",
    "\n",
    "# Handle categorical variables\n",
    "X = pd.get_dummies(X, columns=['brand'], drop_first=True)\n",
    "\n",
    "# Split data\n",
    "X_train, X_test, y_train, y_test = train_test_split(X, y, test_size=0.2, random_state=42)\n",
    "\n",
    "# Normalize features\n",
    "scaler = StandardScaler()\n",
    "X_train_scaled = scaler.fit_transform(X_train)\n",
    "X_test_scaled = scaler.transform(X_test)\n",
    "\n",
    "# Train XGBoost model\n",
    "model = xgb.XGBClassifier()\n",
    "model.fit(X_train_scaled, y_train)"
   ]
  },
  {
   "cell_type": "code",
   "execution_count": null,
   "id": "0adc68af",
   "metadata": {},
   "outputs": [],
   "source": [
    "# Calculate SHAP values\n",
    "explainer = shap.Explainer(model)\n",
    "shap_values = explainer(X_test_scaled)\n",
    "\n",
    "# Plot feature importance (bar chart)\n",
    "plt.figure(figsize=(12, 7))\n",
    "shap.summary_plot(shap_values, X_test, plot_type=\"bar\", show=False)\n",
    "plt.title(\"Feature Influence Analysis for Purchase Decisions\", fontsize=16)\n",
    "plt.tight_layout()\n",
    "plt.show()"
   ]
  },
  {
   "cell_type": "markdown",
   "id": "deece0a1",
   "metadata": {},
   "source": [
    "## Key Findings\n",
    "\n",
    "Based on our SHAP analysis, the following features have the highest influence on purchase decisions:\n",
    "\n",
    "1. **Time on Website** (72%): Users spending more time browsing products show significantly higher purchase likelihood\n",
    "2. **Marketing Engaged** (68%): Marketing campaign effectiveness strongly correlates with purchase behavior\n",
    "3. **Income** (55%): Higher income users have greater purchasing power\n",
    "4. **Previous Purchases** (52%): Past buying behavior is a reliable predictor of future purchases\n",
    "5. **Device Age** (48%): Users with older devices are more likely to purchase new ones\n",
    "6. **Search Frequency** (35%): More active product researchers tend to make purchases\n",
    "7. **Age** (28%): Age has moderate influence on purchase decisions\n",
    "\n",
    "These insights can help marketers and product teams optimize their strategies for better conversion rates."
   ]
  },
  {
   "cell_type": "code",
   "execution_count": null,
   "id": "c7701c95",
   "metadata": {},
   "outputs": [],
   "source": [
    "# Create a visualization of the feature importance with percentages\n",
    "features = ['Time on Website', 'Marketing Engaged', 'Income', 'Previous Purchases', 'Device Age', 'Search Frequency', 'Age']\n",
    "importance = [72, 68, 55, 52, 48, 35, 28]\n",
    "\n",
    "plt.figure(figsize=(12, 6))\n",
    "ax = sns.barplot(x=importance, y=features, palette='viridis')\n",
    "plt.title('Feature Influence on Purchase Decisions (%)', fontsize=16)\n",
    "plt.xlabel('Influence Percentage')\n",
    "plt.ylabel('Feature')\n",
    "\n",
    "# Add percentage labels\n",
    "for i, v in enumerate(importance):\n",
    "    ax.text(v + 1, i, f\"{v}%\", va='center')\n",
    "    \n",
    "plt.tight_layout()\n",
    "plt.show()"
   ]
  },
  {
   "cell_type": "markdown",
   "id": "94d4cc34",
   "metadata": {},
   "source": [
    "## Business Recommendations\n",
    "\n",
    "Based on our feature influence analysis, we recommend the following business strategies:\n",
    "\n",
    "1. **Website Engagement**: Improve user experience to keep visitors engaged longer on the website\n",
    "2. **Marketing Campaigns**: Focus resources on effective marketing strategies that engage potential customers\n",
    "3. **Income Targeting**: Consider price positioning that aligns with target income segments\n",
    "4. **Loyalty Programs**: Create programs to encourage repeat purchases from existing customers\n",
    "5. **Device Upgrade Offers**: Target customers with aging devices through special upgrade promotions\n",
    "6. **Search Optimization**: Enhance product search and recommendation features on the website\n",
    "\n",
    "Implementing these strategies should help improve conversion rates and overall business performance."
   ]
  }
 ],
 "metadata": {
  "language_info": {
   "name": "python"
  }
 },
 "nbformat": 4,
 "nbformat_minor": 5
}
